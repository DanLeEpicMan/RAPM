{
 "cells": [
  {
   "cell_type": "code",
   "execution_count": 2,
   "metadata": {},
   "outputs": [],
   "source": [
    "import numpy as np\n",
    "import pandas as pd\n",
    "import nba_on_court as noc\n",
    "import seaborn as sns\n",
    "from sklearn.linear_model import RidgeCV\n",
    "\n",
    "pd.set_option('display.max_columns', 500)"
   ]
  },
  {
   "cell_type": "markdown",
   "metadata": {},
   "source": [
    "### Model Fitting\n",
    "\n",
    "This code is essentially the same code as `fit_ridge_odrapm.qmd`, except that this code removes the signed intercept from the model. I'm much better at data manipulation in Python than R."
   ]
  },
  {
   "cell_type": "code",
   "execution_count": 3,
   "metadata": {},
   "outputs": [],
   "source": [
    "design  = pd.read_csv('../../design_matrices/odrapm_design.csv.gz', index_col=0).drop('0', axis=1)\n",
    "pm      = pd.read_csv('../../data/processed_data_2022.csv', index_col=0)['PM']\n",
    "players = design.columns[::2].astype(int).to_list()"
   ]
  },
  {
   "cell_type": "code",
   "execution_count": 4,
   "metadata": {},
   "outputs": [],
   "source": [
    "model = RidgeCV(\n",
    "    alphas=[10, 20, 30, 40, 50, 60, 70, 80, 90, 100, 500, 1000, 1500, 2000, 2500, 3000],\n",
    "    fit_intercept=False\n",
    ").fit(design, pm)\n",
    "\n",
    "coefs = model.coef_"
   ]
  },
  {
   "cell_type": "code",
   "execution_count": 5,
   "metadata": {},
   "outputs": [],
   "source": [
    "orapm = coefs[::2]\n",
    "drapm = coefs[1::2]\n",
    "\n",
    "results = pd.DataFrame({\n",
    "    'Player'        : noc.players_name(players),\n",
    "    'ORAPM'         : orapm,\n",
    "    'DRAPM'         : drapm,\n",
    "    'RAPM'          : orapm - drapm,\n",
    "    'Average PM'    : np.empty(len(orapm)) # to be filled\n",
    "})"
   ]
  },
  {
   "cell_type": "code",
   "execution_count": 8,
   "metadata": {},
   "outputs": [],
   "source": [
    "data = pd.read_csv('../../data/processed_data_2022.csv', index_col=0) \n",
    "indicators = pd.read_csv('../../design_matrices/odrapm_design.csv.gz', usecols=range(2, 2 * (len(players)+1)))\n",
    "\n",
    "games = pd.unique(data['GAME_ID'])\n",
    "\n",
    "# calculate average pm for each player\n",
    "# this is definitely not the most efficient way to do this\n",
    "# but i'm too lazy to figure it out\n",
    "for i in range(len(players)):\n",
    "    onpm = 0\n",
    "    offpm = 0\n",
    "    total_stints = 0\n",
    "    for game in games:\n",
    "        bools: list[bool] = data['GAME_ID'] == game # specifying the data type for my IDE\n",
    "        current_data, current_indic = data[bools], indicators[bools]\n",
    "\n",
    "        on_indicators = current_indic.iloc[:, 2*i] + current_indic.iloc[:, 2*i+1]\n",
    "        if not np.any(on_indicators): # if the player isn't in the game\n",
    "            continue\n",
    "        \n",
    "        sign = np.sign(current_indic.sum())\n",
    "        off_indicators = ((~on_indicators.astype(bool)).astype(int)).mul(sign) # in case we need to swap -1, 0 instead of 1, 0\n",
    "        \n",
    "        onpm += (on_indicators * current_data['PM']).sum()\n",
    "        offpm += (off_indicators * current_data['PM']).sum()\n",
    "        total_stints += len(current_data)\n",
    "\n",
    "    results.at[i, 'Average PM'] = (onpm - offpm) / total_stints"
   ]
  },
  {
   "cell_type": "code",
   "execution_count": 9,
   "metadata": {},
   "outputs": [],
   "source": [
    "results.sort_values(by=['Average PM'], ascending=False, inplace=True)\n",
    "\n",
    "results.to_csv('../../results/no_intercept_results.csv')"
   ]
  },
  {
   "cell_type": "code",
   "execution_count": 12,
   "metadata": {},
   "outputs": [
    {
     "data": {
      "text/html": [
       "<div>\n",
       "<style scoped>\n",
       "    .dataframe tbody tr th:only-of-type {\n",
       "        vertical-align: middle;\n",
       "    }\n",
       "\n",
       "    .dataframe tbody tr th {\n",
       "        vertical-align: top;\n",
       "    }\n",
       "\n",
       "    .dataframe thead th {\n",
       "        text-align: right;\n",
       "    }\n",
       "</style>\n",
       "<table border=\"1\" class=\"dataframe\">\n",
       "  <thead>\n",
       "    <tr style=\"text-align: right;\">\n",
       "      <th></th>\n",
       "      <th>Player</th>\n",
       "      <th>ORAPM</th>\n",
       "      <th>DRAPM</th>\n",
       "      <th>RAPM</th>\n",
       "      <th>Average PM</th>\n",
       "    </tr>\n",
       "  </thead>\n",
       "  <tbody>\n",
       "    <tr>\n",
       "      <th>60</th>\n",
       "      <td>Aaron Gordon</td>\n",
       "      <td>0.158796</td>\n",
       "      <td>-0.076461</td>\n",
       "      <td>0.235257</td>\n",
       "      <td>0.043537</td>\n",
       "    </tr>\n",
       "    <tr>\n",
       "      <th>160</th>\n",
       "      <td>Tyler Herro</td>\n",
       "      <td>0.061042</td>\n",
       "      <td>-0.009147</td>\n",
       "      <td>0.070189</td>\n",
       "      <td>0.042918</td>\n",
       "    </tr>\n",
       "    <tr>\n",
       "      <th>88</th>\n",
       "      <td>Jamal Murray</td>\n",
       "      <td>0.118486</td>\n",
       "      <td>-0.079774</td>\n",
       "      <td>0.198260</td>\n",
       "      <td>0.039456</td>\n",
       "    </tr>\n",
       "    <tr>\n",
       "      <th>69</th>\n",
       "      <td>Nikola Jokic</td>\n",
       "      <td>0.081218</td>\n",
       "      <td>-0.094517</td>\n",
       "      <td>0.175735</td>\n",
       "      <td>0.038095</td>\n",
       "    </tr>\n",
       "    <tr>\n",
       "      <th>134</th>\n",
       "      <td>Michael Porter Jr.</td>\n",
       "      <td>0.047158</td>\n",
       "      <td>-0.111069</td>\n",
       "      <td>0.158227</td>\n",
       "      <td>0.031519</td>\n",
       "    </tr>\n",
       "    <tr>\n",
       "      <th>104</th>\n",
       "      <td>Luke Kennard</td>\n",
       "      <td>0.157372</td>\n",
       "      <td>-0.082668</td>\n",
       "      <td>0.240040</td>\n",
       "      <td>0.027708</td>\n",
       "    </tr>\n",
       "    <tr>\n",
       "      <th>2</th>\n",
       "      <td>Chris Paul</td>\n",
       "      <td>0.111687</td>\n",
       "      <td>-0.057265</td>\n",
       "      <td>0.168952</td>\n",
       "      <td>0.027215</td>\n",
       "    </tr>\n",
       "    <tr>\n",
       "      <th>121</th>\n",
       "      <td>Bruce Brown</td>\n",
       "      <td>0.086658</td>\n",
       "      <td>-0.068406</td>\n",
       "      <td>0.155064</td>\n",
       "      <td>0.023356</td>\n",
       "    </tr>\n",
       "    <tr>\n",
       "      <th>42</th>\n",
       "      <td>Khris Middleton</td>\n",
       "      <td>0.147221</td>\n",
       "      <td>-0.058506</td>\n",
       "      <td>0.205727</td>\n",
       "      <td>0.021259</td>\n",
       "    </tr>\n",
       "    <tr>\n",
       "      <th>144</th>\n",
       "      <td>Jock Landale</td>\n",
       "      <td>0.104703</td>\n",
       "      <td>-0.013165</td>\n",
       "      <td>0.117868</td>\n",
       "      <td>0.020369</td>\n",
       "    </tr>\n",
       "  </tbody>\n",
       "</table>\n",
       "</div>"
      ],
      "text/plain": [
       "                 Player     ORAPM     DRAPM      RAPM  Average PM\n",
       "60         Aaron Gordon  0.158796 -0.076461  0.235257    0.043537\n",
       "160         Tyler Herro  0.061042 -0.009147  0.070189    0.042918\n",
       "88         Jamal Murray  0.118486 -0.079774  0.198260    0.039456\n",
       "69         Nikola Jokic  0.081218 -0.094517  0.175735    0.038095\n",
       "134  Michael Porter Jr.  0.047158 -0.111069  0.158227    0.031519\n",
       "104        Luke Kennard  0.157372 -0.082668  0.240040    0.027708\n",
       "2            Chris Paul  0.111687 -0.057265  0.168952    0.027215\n",
       "121         Bruce Brown  0.086658 -0.068406  0.155064    0.023356\n",
       "42      Khris Middleton  0.147221 -0.058506  0.205727    0.021259\n",
       "144        Jock Landale  0.104703 -0.013165  0.117868    0.020369"
      ]
     },
     "execution_count": 12,
     "metadata": {},
     "output_type": "execute_result"
    }
   ],
   "source": [
    "results.sort_values(by=['Average PM'], ascending=False).head(10)"
   ]
  },
  {
   "cell_type": "code",
   "execution_count": 11,
   "metadata": {},
   "outputs": [
    {
     "data": {
      "text/plain": [
       "<Axes: xlabel='RAPM', ylabel='Average PM'>"
      ]
     },
     "execution_count": 11,
     "metadata": {},
     "output_type": "execute_result"
    },
    {
     "data": {
      "image/png": "[encoded data removed]",
      "text/plain": [
       "<Figure size 640x480 with 1 Axes>"
      ]
     },
     "metadata": {},
     "output_type": "display_data"
    }
   ],
   "source": [
    "sns.scatterplot(x=results['RAPM'], y=results['Average PM'])"
   ]
  },
  {
   "cell_type": "code",
   "execution_count": 8,
   "metadata": {},
   "outputs": [
    {
     "data": {
      "text/plain": [
       "array([[1.        , 0.03002289],\n",
       "       [0.03002289, 1.        ]])"
      ]
     },
     "execution_count": 8,
     "metadata": {},
     "output_type": "execute_result"
    }
   ],
   "source": [
    "np.corrcoef(results['RAPM'], results['Average PM'])"
   ]
  },
  {
   "cell_type": "code",
   "execution_count": 46,
   "metadata": {},
   "outputs": [
    {
     "data": {
      "text/plain": [
       "1"
      ]
     },
     "execution_count": 46,
     "metadata": {},
     "output_type": "execute_result"
    }
   ],
   "source": []
  }
 ],
 "metadata": {
  "kernelspec": {
   "display_name": "rapm",
   "language": "python",
   "name": "python3"
  },
  "language_info": {
   "codemirror_mode": {
    "name": "ipython",
    "version": 3
   },
   "file_extension": ".py",
   "mimetype": "text/x-python",
   "name": "python",
   "nbconvert_exporter": "python",
   "pygments_lexer": "ipython3",
   "version": "3.10.5"
  }
 },
 "nbformat": 4,
 "nbformat_minor": 2
}
