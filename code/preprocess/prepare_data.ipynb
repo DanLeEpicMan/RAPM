{
 "cells": [
  {
   "cell_type": "code",
   "execution_count": 2,
   "metadata": {},
   "outputs": [],
   "source": [
    "import numpy as np\n",
    "import pandas as pd\n",
    "import nba_on_court as noc"
   ]
  },
  {
   "cell_type": "markdown",
   "metadata": {},
   "source": [
    "# Preprocessing Raw Data\n",
    "\n",
    "Code for preprocessing the raw combined datasets. See `nba_on_court.left_join_nbastats` for combining NBA (nbastats) and Play-by-Play (pbpstats) datasets"
   ]
  },
  {
   "cell_type": "code",
   "execution_count": 27,
   "metadata": {},
   "outputs": [],
   "source": [
    "_BASE_FEATURES  = [\n",
    "    'GAME_ID',\n",
    "    'SCOREMARGIN',\n",
    "    'TURNOVERS', \n",
    "    'PLAYER1_ID', \n",
    "    'AWAY_PLAYER1', 'AWAY_PLAYER2', 'AWAY_PLAYER3', 'AWAY_PLAYER4', 'AWAY_PLAYER5', \n",
    "    'HOME_PLAYER1', 'HOME_PLAYER2', 'HOME_PLAYER3', 'HOME_PLAYER4', 'HOME_PLAYER5'\n",
    "]\n",
    "\n",
    "def preprocess_season(season: pd.DataFrame) -> pd.DataFrame:\n",
    "    '''\n",
    "    Given a full season of raw data, preprocess the data\n",
    "    and return the resulting DataFrame. Note that this\n",
    "    is essentially `preprocess_game` but for an entire season.\n",
    "\n",
    "    This will return a DataFrame with the following features:\n",
    "      `GAME_ID`: The game that the stint belongs to.\n",
    "      `SCOREMARGIN`: The score margin of the stint. Note that positive means in favor for home, negative in favor for away.\n",
    "      `TURNOVERS`: Indicator of whether the stint resulted in a turnover.\n",
    "      `BALL_ID`: (Presumed to be) the player who possessed the ball during the stint.\n",
    "      `PM`: The Plus-Minus of the stint. See SCOREMARGIN for meaning of the sign.\n",
    "      `[AWAY|HOME]_PLAYER[NUM]`: Player ID of an Away/Home player.\n",
    "    '''\n",
    "    games = pd.unique(season['GAME_ID'])\n",
    "    list_of_game_data = []\n",
    "\n",
    "    for game in games:\n",
    "        current = season[season['GAME_ID'] == game].reset_index(drop=True)\n",
    "        current = noc.players_on_court(current)\n",
    "        list_of_game_data.append(preprocess_game(current))\n",
    "\n",
    "    return pd.concat(list_of_game_data, ignore_index=True)\n",
    "\n",
    "def preprocess_game(game_data: pd.DataFrame) -> pd.DataFrame:\n",
    "    '''\n",
    "    Given the full data of a game (including players on court), \n",
    "    preprocess the game data and return the result.\n",
    "\n",
    "    This will return a DataFrame with the following features:\n",
    "      `GAME_ID`: The game that the stint belongs to.\n",
    "      `SCOREMARGIN`: The score margin of the stint. Note that positive means in favor for home, negative in favor for away.\n",
    "      `TURNOVERS`: Indicator of whether the stint resulted in a turnover.\n",
    "      `BALL_ID`: (Presumed to be) the player who possessed the ball during the stint.\n",
    "      `PM`: The Plus-Minus of the stint. See SCOREMARGIN for meaning of the sign.\n",
    "      `[AWAY|HOME]_PLAYER[NUM]`: Player ID of an Away/Home player.\n",
    "    '''\n",
    "    # extract features we care about\n",
    "    subset = game_data[_BASE_FEATURES]\n",
    "    subset.rename(columns={'PLAYER1_ID': 'BALL_ID'}, inplace=True)\n",
    "\n",
    "    # have to preprocess stints that end in scores differently from stints that end in turnovers\n",
    "    # because otherwise the PM can't be calculated\n",
    "    scores = subset[~subset['SCOREMARGIN'].isna()].replace('TIE', 0)\n",
    "    scores['PM'] = scores['SCOREMARGIN'].astype(np.int64).diff().replace(np.nan, 0)\n",
    "    scores.at[scores.index[0], 'PM'] = np.int64(scores.at[scores.index[0], 'SCOREMARGIN']) # manually add in the first PM\n",
    "    score_stints = scores[(scores['TURNOVERS'] == 0) & ((scores['BALL_ID'].isna() == False) & (scores['BALL_ID'] != 0))]\n",
    "\n",
    "    turnovers = subset[subset['TURNOVERS'] == 1]\n",
    "    turnovers['SCOREMARGIN'].fillna(0, inplace=True)\n",
    "    turnovers['PM'] = np.zeros(len(turnovers), dtype=np.int64)\n",
    "    turnover_stints = turnovers[((turnovers['BALL_ID'].isna() == False) & (turnovers['BALL_ID'] != 0))]\n",
    "\n",
    "    return pd.concat([score_stints, turnover_stints]).sort_index()"
   ]
  },
  {
   "cell_type": "code",
   "execution_count": 28,
   "metadata": {},
   "outputs": [],
   "source": [
    "data = preprocess_season(pd.read_csv('../../data/combined_data_2022.csv', index_col=0))"
   ]
  },
  {
   "cell_type": "markdown",
   "metadata": {},
   "source": [
    "Remove stints that make no sense ('BALL_ID' isn't in the game)."
   ]
  },
  {
   "cell_type": "code",
   "execution_count": 33,
   "metadata": {},
   "outputs": [],
   "source": [
    "PLAYERS = ['AWAY_PLAYER1', 'AWAY_PLAYER2', 'AWAY_PLAYER3', 'AWAY_PLAYER4', 'AWAY_PLAYER5', 'HOME_PLAYER1', 'HOME_PLAYER2', 'HOME_PLAYER3', 'HOME_PLAYER4', 'HOME_PLAYER5']\n",
    "\n",
    "def check_valid(row: pd.Series):\n",
    "    return row['BALL_ID'] in row[PLAYERS].values\n",
    "\n",
    "data = data[data.apply(check_valid, axis=1)].reset_index(drop=True)"
   ]
  },
  {
   "cell_type": "code",
   "execution_count": 34,
   "metadata": {},
   "outputs": [],
   "source": [
    "data.to_csv('../../data/processed_data_2022.csv')"
   ]
  },
  {
   "cell_type": "markdown",
   "metadata": {},
   "source": [
    "Combine free throws into a single stint. "
   ]
  }
 ],
 "metadata": {
  "kernelspec": {
   "display_name": "rapm",
   "language": "python",
   "name": "python3"
  },
  "language_info": {
   "codemirror_mode": {
    "name": "ipython",
    "version": 3
   },
   "file_extension": ".py",
   "mimetype": "text/x-python",
   "name": "python",
   "nbconvert_exporter": "python",
   "pygments_lexer": "ipython3",
   "version": "3.10.5"
  }
 },
 "nbformat": 4,
 "nbformat_minor": 2
}
