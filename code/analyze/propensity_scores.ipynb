{
 "cells": [
  {
   "cell_type": "markdown",
   "metadata": {},
   "source": [
    "The purpose of this script is to train a propensity score model for each player.\n",
    "\n",
    "More specifically, every player will have an associated model. This model will predict the probability of the player's presence in a stint, given covariates.\n",
    "This is the \"Propensity Score\" of the player, and is the foundation of the causal inference portion of this project."
   ]
  },
  {
   "cell_type": "markdown",
   "metadata": {},
   "source": [
    "For each player, train a logistic regression model that uses the following features\n",
    " - Numerical\n",
    "    - Score Margin\n",
    "    - Point change (Plus-Minus)\n",
    "    - Period\n",
    " - Categorical\n",
    "    - Presence of teammates"
   ]
  },
  {
   "cell_type": "code",
   "execution_count": null,
   "metadata": {
    "vscode": {
     "languageId": "plaintext"
    }
   },
   "outputs": [],
   "source": [
    "import numpy as np\n",
    "import pandas as pd\n",
    "import nba_on_court as noc\n",
    "import seaborn as sns\n",
    "from sklearn.linear_model import RidgeCV"
   ]
  }
 ],
 "metadata": {
  "language_info": {
   "name": "python"
  }
 },
 "nbformat": 4,
 "nbformat_minor": 2
}
