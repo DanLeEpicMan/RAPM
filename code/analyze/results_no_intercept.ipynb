{
 "cells": [
  {
   "cell_type": "code",
   "execution_count": 1,
   "metadata": {},
   "outputs": [],
   "source": [
    "import numpy as np\n",
    "import pandas as pd\n",
    "import nba_on_court as noc\n",
    "import seaborn as sns\n",
    "from sklearn.linear_model import RidgeCV\n",
    "\n",
    "pd.set_option('display.max_columns', 500)"
   ]
  },
  {
   "cell_type": "markdown",
   "metadata": {},
   "source": [
    "### Model Fitting\n",
    "\n",
    "This code is essentially the same code as `fit_ridge_odrapm.qmd`, except that this code removes the signed intercept from the model. I'm much better at data manipulation in Python than R."
   ]
  },
  {
   "cell_type": "code",
   "execution_count": 2,
   "metadata": {},
   "outputs": [],
   "source": [
    "design  = pd.read_csv('../../design_matrices/odrapm_design.csv.gz', index_col=0).drop('0', axis=1)\n",
    "pm      = pd.read_csv('../../data/processed_data_2022.csv', index_col=0)['PM']\n",
    "players = design.columns[::2].astype(int).to_list()"
   ]
  },
  {
   "cell_type": "code",
   "execution_count": 3,
   "metadata": {},
   "outputs": [],
   "source": [
    "model = RidgeCV(\n",
    "    alphas=[10, 20, 30, 40, 50, 60, 70, 80, 90, 100, 500, 1000, 1500, 2000, 2500, 3000],\n",
    "    fit_intercept=False\n",
    ").fit(design, pm)\n",
    "\n",
    "coefs = model.coef_"
   ]
  },
  {
   "cell_type": "code",
   "execution_count": 4,
   "metadata": {},
   "outputs": [],
   "source": [
    "orapm = coefs[::2]\n",
    "drapm = coefs[1::2]\n",
    "\n",
    "results = pd.DataFrame({\n",
    "    'Player'        : noc.players_name(players),\n",
    "    'ORAPM'         : orapm,\n",
    "    'DRAPM'         : drapm,\n",
    "    'RAPM'          : orapm - drapm,\n",
    "    'Average PM'    : np.empty(len(orapm)) # to be filled\n",
    "})"
   ]
  },
  {
   "cell_type": "code",
   "execution_count": 5,
   "metadata": {},
   "outputs": [],
   "source": [
    "data = pd.read_csv('../../data/processed_data_2022.csv', index_col=0) \n",
    "indicators = pd.read_csv('../../design_matrices/odrapm_design.csv.gz', usecols=range(2, 2 * (len(players)+1)))\n",
    "\n",
    "games = pd.unique(data['GAME_ID'])\n",
    "\n",
    "# calculate average pm for each player\n",
    "# this is definitely not the most efficient way to do this\n",
    "# but i'm too lazy to figure it out\n",
    "for i in range(len(players)):\n",
    "    onpm = 0\n",
    "    offpm = 0\n",
    "    total_stints = 0\n",
    "    for game in games:\n",
    "        bools: list[bool] = data['GAME_ID'] == game # specifying the data type for my IDE\n",
    "        if not np.any(bools): # if the player isn't in the game\n",
    "            continue\n",
    "        current_data, current_indic = data[bools], indicators[bools]\n",
    "        \n",
    "        sign = np.sign(current_indic.sum())\n",
    "        on_indicators = current_indic.iloc[:, 2*i] + current_indic.iloc[:, 2*i+1]\n",
    "        off_indicators = ((~on_indicators.astype(bool)).astype(int)).mul(sign) # in case we need to swap -1, 0 instead of 1, 0\n",
    "        \n",
    "        onpm += (on_indicators * current_data['PM']).sum()\n",
    "        offpm += (off_indicators * current_data['PM']).sum()\n",
    "        total_stints += len(current_data)\n",
    "\n",
    "    results.at[i, 'Average PM'] = (onpm - offpm) / total_stints"
   ]
  },
  {
   "cell_type": "code",
   "execution_count": 6,
   "metadata": {},
   "outputs": [],
   "source": [
    "results.sort_values(by=['Average PM'], ascending=False, inplace=True)\n",
    "\n",
    "results.to_csv('../../results/no_intercept_results.csv')"
   ]
  },
  {
   "cell_type": "code",
   "execution_count": 14,
   "metadata": {},
   "outputs": [
    {
     "data": {
      "text/html": [
       "<div>\n",
       "<style scoped>\n",
       "    .dataframe tbody tr th:only-of-type {\n",
       "        vertical-align: middle;\n",
       "    }\n",
       "\n",
       "    .dataframe tbody tr th {\n",
       "        vertical-align: top;\n",
       "    }\n",
       "\n",
       "    .dataframe thead th {\n",
       "        text-align: right;\n",
       "    }\n",
       "</style>\n",
       "<table border=\"1\" class=\"dataframe\">\n",
       "  <thead>\n",
       "    <tr style=\"text-align: right;\">\n",
       "      <th></th>\n",
       "      <th>Player</th>\n",
       "      <th>ORAPM</th>\n",
       "      <th>DRAPM</th>\n",
       "      <th>RAPM</th>\n",
       "      <th>Average PM</th>\n",
       "    </tr>\n",
       "  </thead>\n",
       "  <tbody>\n",
       "    <tr>\n",
       "      <th>170</th>\n",
       "      <td>Anthony Edwards</td>\n",
       "      <td>0.245827</td>\n",
       "      <td>-0.151255</td>\n",
       "      <td>0.397082</td>\n",
       "      <td>-0.000740</td>\n",
       "    </tr>\n",
       "    <tr>\n",
       "      <th>123</th>\n",
       "      <td>Jalen Brunson</td>\n",
       "      <td>0.215274</td>\n",
       "      <td>-0.151036</td>\n",
       "      <td>0.366310</td>\n",
       "      <td>0.001956</td>\n",
       "    </tr>\n",
       "    <tr>\n",
       "      <th>157</th>\n",
       "      <td>De'Andre Hunter</td>\n",
       "      <td>0.191546</td>\n",
       "      <td>-0.163801</td>\n",
       "      <td>0.355347</td>\n",
       "      <td>-0.000846</td>\n",
       "    </tr>\n",
       "    <tr>\n",
       "      <th>175</th>\n",
       "      <td>Saddiq Bey</td>\n",
       "      <td>0.095063</td>\n",
       "      <td>-0.257586</td>\n",
       "      <td>0.352649</td>\n",
       "      <td>-0.001850</td>\n",
       "    </tr>\n",
       "    <tr>\n",
       "      <th>0</th>\n",
       "      <td>LeBron James</td>\n",
       "      <td>0.157884</td>\n",
       "      <td>-0.178907</td>\n",
       "      <td>0.336791</td>\n",
       "      <td>0.001427</td>\n",
       "    </tr>\n",
       "    <tr>\n",
       "      <th>67</th>\n",
       "      <td>Clint Capela</td>\n",
       "      <td>0.155399</td>\n",
       "      <td>-0.173115</td>\n",
       "      <td>0.328515</td>\n",
       "      <td>-0.001216</td>\n",
       "    </tr>\n",
       "    <tr>\n",
       "      <th>75</th>\n",
       "      <td>Devin Booker</td>\n",
       "      <td>0.143425</td>\n",
       "      <td>-0.168829</td>\n",
       "      <td>0.312254</td>\n",
       "      <td>-0.001850</td>\n",
       "    </tr>\n",
       "    <tr>\n",
       "      <th>85</th>\n",
       "      <td>Malik Beasley</td>\n",
       "      <td>0.138475</td>\n",
       "      <td>-0.167234</td>\n",
       "      <td>0.305710</td>\n",
       "      <td>-0.000952</td>\n",
       "    </tr>\n",
       "    <tr>\n",
       "      <th>93</th>\n",
       "      <td>Gary Payton II</td>\n",
       "      <td>0.131098</td>\n",
       "      <td>-0.171215</td>\n",
       "      <td>0.302314</td>\n",
       "      <td>-0.002115</td>\n",
       "    </tr>\n",
       "    <tr>\n",
       "      <th>146</th>\n",
       "      <td>Duncan Robinson</td>\n",
       "      <td>0.186679</td>\n",
       "      <td>-0.108008</td>\n",
       "      <td>0.294687</td>\n",
       "      <td>0.003542</td>\n",
       "    </tr>\n",
       "  </tbody>\n",
       "</table>\n",
       "</div>"
      ],
      "text/plain": [
       "              Player     ORAPM     DRAPM      RAPM  Average PM\n",
       "170  Anthony Edwards  0.245827 -0.151255  0.397082   -0.000740\n",
       "123    Jalen Brunson  0.215274 -0.151036  0.366310    0.001956\n",
       "157  De'Andre Hunter  0.191546 -0.163801  0.355347   -0.000846\n",
       "175       Saddiq Bey  0.095063 -0.257586  0.352649   -0.001850\n",
       "0       LeBron James  0.157884 -0.178907  0.336791    0.001427\n",
       "67      Clint Capela  0.155399 -0.173115  0.328515   -0.001216\n",
       "75      Devin Booker  0.143425 -0.168829  0.312254   -0.001850\n",
       "85     Malik Beasley  0.138475 -0.167234  0.305710   -0.000952\n",
       "93    Gary Payton II  0.131098 -0.171215  0.302314   -0.002115\n",
       "146  Duncan Robinson  0.186679 -0.108008  0.294687    0.003542"
      ]
     },
     "execution_count": 14,
     "metadata": {},
     "output_type": "execute_result"
    }
   ],
   "source": [
    "results.sort_values(by=['RAPM'], ascending=False).head(10)"
   ]
  },
  {
   "cell_type": "code",
   "execution_count": 7,
   "metadata": {},
   "outputs": [
    {
     "data": {
      "text/plain": [
       "<Axes: xlabel='RAPM', ylabel='Average PM'>"
      ]
     },
     "execution_count": 7,
     "metadata": {},
     "output_type": "execute_result"
    },
    {
     "data": {
      "image/png": "[encoded data removed]",
      "text/plain": [
       "<Figure size 640x480 with 1 Axes>"
      ]
     },
     "metadata": {},
     "output_type": "display_data"
    }
   ],
   "source": [
    "sns.scatterplot(x=results['RAPM'], y=results['Average PM'])"
   ]
  },
  {
   "cell_type": "code",
   "execution_count": 8,
   "metadata": {},
   "outputs": [
    {
     "data": {
      "text/plain": [
       "array([[1.        , 0.03002289],\n",
       "       [0.03002289, 1.        ]])"
      ]
     },
     "execution_count": 8,
     "metadata": {},
     "output_type": "execute_result"
    }
   ],
   "source": [
    "np.corrcoef(results['RAPM'], results['Average PM'])"
   ]
  },
  {
   "cell_type": "code",
   "execution_count": 46,
   "metadata": {},
   "outputs": [
    {
     "data": {
      "text/plain": [
       "1"
      ]
     },
     "execution_count": 46,
     "metadata": {},
     "output_type": "execute_result"
    }
   ],
   "source": []
  }
 ],
 "metadata": {
  "kernelspec": {
   "display_name": "rapm",
   "language": "python",
   "name": "python3"
  },
  "language_info": {
   "codemirror_mode": {
    "name": "ipython",
    "version": 3
   },
   "file_extension": ".py",
   "mimetype": "text/x-python",
   "name": "python",
   "nbconvert_exporter": "python",
   "pygments_lexer": "ipython3",
   "version": "3.10.5"
  }
 },
 "nbformat": 4,
 "nbformat_minor": 2
}
