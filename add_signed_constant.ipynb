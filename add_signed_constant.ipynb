{
 "cells": [
  {
   "cell_type": "code",
   "execution_count": 19,
   "metadata": {},
   "outputs": [],
   "source": [
    "import pandas as pd\n",
    "import numpy as np\n",
    "from typing import Tuple\n",
    "import nba_on_court as noc\n",
    "from sklearn.linear_model import RidgeCV, Ridge"
   ]
  },
  {
   "cell_type": "markdown",
   "metadata": {},
   "source": [
    "Load the design matrix and game data"
   ]
  },
  {
   "cell_type": "code",
   "execution_count": 20,
   "metadata": {},
   "outputs": [],
   "source": [
    "design  = pd.read_csv('design_matrices/odrapm_design.csv', index_col=0)\n",
    "data    = pd.read_csv('data/processed_data_2022.csv', index_col=0)"
   ]
  },
  {
   "cell_type": "markdown",
   "metadata": {},
   "source": [
    "Create a function that can determine the proper coefficient for the signed constant."
   ]
  },
  {
   "cell_type": "code",
   "execution_count": 21,
   "metadata": {},
   "outputs": [],
   "source": [
    "_HOME_LIST = ['HOME_PLAYER1', 'HOME_PLAYER2', 'HOME_PLAYER3', 'HOME_PLAYER4', 'HOME_PLAYER5']\n",
    "\n",
    "def _determine_coefficient(row: pd.Series) -> int:\n",
    "    '''\n",
    "    Determines the coefficient for the signed constant term in the ridge regression design matrix.\n",
    "\n",
    "    1 if Home is offense, -1 otherwise.\n",
    "    '''\n",
    "    if row['BALL_ID'] in row[_HOME_LIST].values: # if home is offense\n",
    "        return 1\n",
    "    else:\n",
    "        return -1"
   ]
  },
  {
   "cell_type": "markdown",
   "metadata": {},
   "source": [
    "Apply the above function to create a vector of coefficients for the signed constant."
   ]
  },
  {
   "cell_type": "code",
   "execution_count": 22,
   "metadata": {},
   "outputs": [],
   "source": [
    "coefs = data.apply(_determine_coefficient, axis=1)"
   ]
  },
  {
   "cell_type": "markdown",
   "metadata": {},
   "source": [
    "Prepend the result to the design matrix, with label '0'"
   ]
  },
  {
   "cell_type": "code",
   "execution_count": null,
   "metadata": {},
   "outputs": [],
   "source": [
    "design.insert(loc=0, column='0', value=coefs)"
   ]
  },
  {
   "cell_type": "code",
   "execution_count": 28,
   "metadata": {},
   "outputs": [],
   "source": [
    "design.to_csv('design_matrices/odrapm_design.csv')"
   ]
  }
 ],
 "metadata": {
  "kernelspec": {
   "display_name": "rapm",
   "language": "python",
   "name": "python3"
  },
  "language_info": {
   "codemirror_mode": {
    "name": "ipython",
    "version": 3
   },
   "file_extension": ".py",
   "mimetype": "text/x-python",
   "name": "python",
   "nbconvert_exporter": "python",
   "pygments_lexer": "ipython3",
   "version": "3.10.5"
  }
 },
 "nbformat": 4,
 "nbformat_minor": 2
}
