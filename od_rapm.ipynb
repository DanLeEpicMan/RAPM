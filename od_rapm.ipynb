{
 "cells": [
  {
   "cell_type": "code",
   "execution_count": 30,
   "metadata": {},
   "outputs": [],
   "source": [
    "import pandas as pd\n",
    "import numpy as np\n",
    "from typing import Tuple\n",
    "import nba_on_court as noc\n",
    "from sklearn.linear_model import RidgeCV"
   ]
  },
  {
   "cell_type": "markdown",
   "metadata": {},
   "source": [
    "Filtering data where stints and turnovers both have values for 'player_1_team_abbreviation'"
   ]
  },
  {
   "cell_type": "code",
   "execution_count": 31,
   "metadata": {},
   "outputs": [],
   "source": [
    "_BASE_FEATURES  = [\n",
    "    'SCOREMARGIN',\n",
    "    'TURNOVERS', \n",
    "    'PLAYER1_ID', \n",
    "    'AWAY_PLAYER1', 'AWAY_PLAYER2', 'AWAY_PLAYER3', 'AWAY_PLAYER4', 'AWAY_PLAYER5', \n",
    "    'HOME_PLAYER1', 'HOME_PLAYER2', 'HOME_PLAYER3', 'HOME_PLAYER4', 'HOME_PLAYER5'\n",
    "]\n",
    "\n",
    "def preprocess_season(season: pd.DataFrame) -> pd.DataFrame:\n",
    "    '''\n",
    "    Given a full season of raw data, preprocess the data\n",
    "    and return the resulting DataFrame. Note that this\n",
    "    is essentially `preprocess_game` but for an entire season.\n",
    "\n",
    "    This will return a DataFrame with the following features:\n",
    "      `SCOREMARGIN`: The score margin of the stint. Note that positive means in favor for home, negative in favor for away.\n",
    "      `TURNOVERS`: Indicator of whether the stint resulted in a turnover.\n",
    "      `BALL_ID`: (Presumed to be) the player who possessed the ball during the stint.\n",
    "      `PM`: The Plus-Minus of the stint. See SCOREMARGIN for meaning of the sign.\n",
    "      `[AWAY|HOME]_PLAYER[NUM]`: Player ID of an Away/Home player.\n",
    "    '''\n",
    "    games = pd.unique(season['GAME_ID'])\n",
    "    list_of_game_data = []\n",
    "\n",
    "    for game in games:\n",
    "        current = season[season['GAME_ID'] == game].reset_index(drop=True)\n",
    "        current = noc.players_on_court(current)\n",
    "        list_of_game_data.append(preprocess_game(current))\n",
    "\n",
    "    return pd.concat(list_of_game_data, ignore_index=True)\n",
    "\n",
    "def preprocess_game(game_data: pd.DataFrame) -> pd.DataFrame:\n",
    "    '''\n",
    "    Given the full data of a game (including players on court), \n",
    "    preprocess the game data and return the result.\n",
    "\n",
    "    This will return a DataFrame with the following features:\n",
    "      `SCOREMARGIN`: The score margin of the stint. Note that positive means in favor for home, negative in favor for away.\n",
    "      `TURNOVERS`: Indicator of whether the stint resulted in a turnover.\n",
    "      `BALL_ID`: (Presumed to be) the player who possessed the ball during the stint.\n",
    "      `PM`: The Plus-Minus of the stint. See SCOREMARGIN for meaning of the sign.\n",
    "      `[AWAY|HOME]_PLAYER[NUM]`: Player ID of an Away/Home player.\n",
    "    '''\n",
    "    # extract features we care about\n",
    "    subset = game_data[_BASE_FEATURES]\n",
    "    subset.rename(columns={'PLAYER1_ID': 'BALL_ID'}, inplace=True)\n",
    "\n",
    "    # have to preprocess stints that end in scores differently from stints that end in turnovers\n",
    "    # because otherwise the PM can't be calculated\n",
    "    scores = subset[~subset['SCOREMARGIN'].isna()].replace('TIE', 0).reset_index(drop=True)\n",
    "    scores['PM'] = scores['SCOREMARGIN'].astype(np.int64).diff().replace(np.nan, 0)\n",
    "    scores.at[0, 'PM'] = np.int64(scores.at[0, 'SCOREMARGIN']) # manually add in the first PM\n",
    "    score_stints = scores[(scores['TURNOVERS'] == 0) & ((scores['BALL_ID'].isna() == False) & (scores['BALL_ID'] != 0))]\n",
    "\n",
    "    turnovers = subset[subset['TURNOVERS'] == 1].reset_index(drop=True)\n",
    "    turnovers['SCOREMARGIN'].fillna(0, inplace=True)\n",
    "    turnovers['PM'] = np.zeros(len(turnovers), dtype=np.int64)\n",
    "    turnover_stints = turnovers[((turnovers['BALL_ID'].isna() == False) & (turnovers['BALL_ID'] != 0))]\n",
    "\n",
    "    return pd.concat([score_stints, turnover_stints], ignore_index=True)\n",
    "\n",
    "data = preprocess_season(pd.read_csv('data/combined_data_2022.csv'))\n"
   ]
  },
  {
   "cell_type": "code",
   "execution_count": 34,
   "metadata": {},
   "outputs": [],
   "source": [
    "data = pd.read_csv('data/processed_data_2022.csv', index_col=0)"
   ]
  },
  {
   "cell_type": "markdown",
   "metadata": {},
   "source": [
    "Creating design matrix with offensive and defensive coefficients for each player"
   ]
  },
  {
   "cell_type": "code",
   "execution_count": 35,
   "metadata": {},
   "outputs": [],
   "source": [
    "_AWAY_LIST = ['AWAY_PLAYER1', 'AWAY_PLAYER2', 'AWAY_PLAYER3', 'AWAY_PLAYER4', 'AWAY_PLAYER5']\n",
    "_HOME_LIST = ['HOME_PLAYER1', 'HOME_PLAYER2', 'HOME_PLAYER3', 'HOME_PLAYER4', 'HOME_PLAYER5']\n",
    "\n",
    "def _determine_coefficient_odrapm(row: pd.Series, player_id: int, offensive: bool) -> int:\n",
    "    '''\n",
    "    Determines whether a player's coefficient is -1, 0, 1 in a given stint for Offensive/Defensive RAPM model.\n",
    "\n",
    "    This is meant to be used in the `get_design_matrix` function.\n",
    "    '''\n",
    "    \n",
    "\n",
    "    away = row[_AWAY_LIST].values\n",
    "    home = row[_HOME_LIST].values\n",
    "    away_is_offense = row['BALL_ID'] in away # True if Away is offensive team\n",
    "    away_is_offense = away_is_offense if offensive else not away_is_offense # Basically, change 'defense' case to 'offense' case\n",
    "\n",
    "    if player_id in away and away_is_offense:\n",
    "        return -1\n",
    "    elif player_id in home and not away_is_offense:\n",
    "        return 1\n",
    "    else:\n",
    "        return 0"
   ]
  },
  {
   "cell_type": "code",
   "execution_count": 36,
   "metadata": {},
   "outputs": [],
   "source": [
    "def get_design_matrix_odrapm(game_data: pd.DataFrame, *, return_players: bool = False) -> np.ndarray | Tuple[np.ndarray, np.ndarray]:\n",
    "    '''\n",
    "    Given a preprocessed game/season of data, return a design matrix for a regression model.\n",
    "    See `preprocess_game`\n",
    "\n",
    "    Each row of the matrix will correspond to a stint.\n",
    "    Even columns (0, 2, 4, ...) correspond to offensive indicators (i.e. filled iff player is on offense).\\n\n",
    "    Odd columns (1, 3, 5, ...) correspond to defensive indicators (i.e. filled iff player is on defense).\\n\n",
    "    Player `k` corresponds to columns `2k` (offense) and `2k+1` (defense).\\n\n",
    "    \n",
    "    The matrix will be filled as follows:\n",
    "      `-1`: Present on the Away team.\n",
    "      `0`: Not present during the stint.\n",
    "      `1`: Present on the Home team. \n",
    "\n",
    "    If `return_players` is True, then this will also return\n",
    "    a list of all player IDs encountered in processing.\n",
    "    The order of this list matches the order of columns in the design matrix.\n",
    "    '''\n",
    "    all_players = np.unique(game_data.filter(like='PLAYER').to_numpy())\n",
    "    design_matrix = np.empty((len(game_data), 2 * len(all_players)))        # stints x 2 * players. to be filled\n",
    "\n",
    "    # fill the design matrix with coefficients\n",
    "    # for a future date: call 'apply' once, have _det_coeff return a 2-sized vector, and fill both columns simultaneously\n",
    "    for i in range(len(all_players)):\n",
    "        player = all_players[i]\n",
    "        design_matrix[:, 2*i] = game_data.apply(_determine_coefficient_odrapm, axis=1, player_id=player, offensive=True).to_numpy()\n",
    "        design_matrix[:, 2*i+1] = game_data.apply(_determine_coefficient_odrapm, axis=1, player_id=player, offensive=False).to_numpy()\n",
    "\n",
    "    if return_players:\n",
    "        return design_matrix, all_players\n",
    "    else:\n",
    "        return design_matrix"
   ]
  },
  {
   "cell_type": "code",
   "execution_count": 37,
   "metadata": {},
   "outputs": [],
   "source": [
    "matrix, players = get_design_matrix_odrapm(data, return_players=True)\n",
    "\n",
    "design_matrix = pd.DataFrame(data=matrix, columns=np.repeat(players, 2))\n",
    "design_matrix.to_csv('design_matrices/odrapm_design.csv')"
   ]
  },
  {
   "cell_type": "code",
   "execution_count": 38,
   "metadata": {},
   "outputs": [
    {
     "name": "stdout",
     "output_type": "stream",
     "text": [
      "217 434\n"
     ]
    }
   ],
   "source": [
    "model = RidgeCV(alphas=[1, 5, 10, 15, 20, 25, 30, 35, 40, 45, 50]).fit(X=design_matrix, y=data['PM'])\n",
    "\n",
    "names = []\n",
    "player_ids = design_matrix.columns.unique().astype(int).to_list()\n",
    "\n",
    "for player in noc.players_name(player_ids):\n",
    "    names.append(player + ' Offensive')\n",
    "    names.append(player + ' Defensive')\n",
    "\n",
    "results = pd.DataFrame({\n",
    "    'Players': names,\n",
    "    'RAPM': model.coef_\n",
    "})\n",
    "\n",
    "results.to_csv(f'results/odrapm_alpha-{model.alpha_}_results.csv')"
   ]
  },
  {
   "cell_type": "code",
   "execution_count": 14,
   "metadata": {},
   "outputs": [
    {
     "ename": "SyntaxError",
     "evalue": "incomplete input (364267023.py, line 9)",
     "output_type": "error",
     "traceback": [
      "\u001b[1;36m  Cell \u001b[1;32mIn[14], line 9\u001b[1;36m\u001b[0m\n\u001b[1;33m    \u001b[0m\n\u001b[1;37m    ^\u001b[0m\n\u001b[1;31mSyntaxError\u001b[0m\u001b[1;31m:\u001b[0m incomplete input\n"
     ]
    }
   ],
   "source": []
  }
 ],
 "metadata": {
  "kernelspec": {
   "display_name": "r-reticulate",
   "language": "python",
   "name": "python3"
  },
  "language_info": {
   "codemirror_mode": {
    "name": "ipython",
    "version": 3
   },
   "file_extension": ".py",
   "mimetype": "text/x-python",
   "name": "python",
   "nbconvert_exporter": "python",
   "pygments_lexer": "ipython3",
   "version": "3.10.5"
  }
 },
 "nbformat": 4,
 "nbformat_minor": 2
}
