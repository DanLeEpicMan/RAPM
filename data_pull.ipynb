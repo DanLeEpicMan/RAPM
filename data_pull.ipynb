{
 "cells": [
  {
   "cell_type": "code",
   "execution_count": 10,
   "metadata": {},
   "outputs": [
    {
     "name": "stdout",
     "output_type": "stream",
     "text": [
      "\u001b[33mWARNING: Ignoring invalid distribution - (/Users/aarya_kulkarni/.virtualenvs/r-reticulate/lib/python3.9/site-packages)\u001b[0m\u001b[33m\n",
      "\u001b[0m\u001b[33mWARNING: Ignoring invalid distribution -eras (/Users/aarya_kulkarni/.virtualenvs/r-reticulate/lib/python3.9/site-packages)\u001b[0m\u001b[33m\n",
      "\u001b[0mRequirement already satisfied: nba-on-court in /Users/aarya_kulkarni/.virtualenvs/r-reticulate/lib/python3.9/site-packages (0.2.0)\n",
      "Requirement already satisfied: nba-api<2.0.0,>=1.1.8 in /Users/aarya_kulkarni/.virtualenvs/r-reticulate/lib/python3.9/site-packages (from nba-on-court) (1.4.1)\n",
      "Requirement already satisfied: numpy<2.0.0,>=1.0.0 in /Users/aarya_kulkarni/.virtualenvs/r-reticulate/lib/python3.9/site-packages (from nba-on-court) (1.24.3)\n",
      "Requirement already satisfied: pandas>=1.3.5 in /Users/aarya_kulkarni/.virtualenvs/r-reticulate/lib/python3.9/site-packages (from nba-on-court) (2.1.3)\n",
      "Requirement already satisfied: polyleven<0.9,>=0.8 in /Users/aarya_kulkarni/.virtualenvs/r-reticulate/lib/python3.9/site-packages (from nba-on-court) (0.8)\n",
      "Requirement already satisfied: requests in /Users/aarya_kulkarni/.virtualenvs/r-reticulate/lib/python3.9/site-packages (from nba-on-court) (2.31.0)\n",
      "Requirement already satisfied: certifi<2024.0.0,>=2023.7.22 in /Users/aarya_kulkarni/.virtualenvs/r-reticulate/lib/python3.9/site-packages (from nba-api<2.0.0,>=1.1.8->nba-on-court) (2023.7.22)\n",
      "Requirement already satisfied: python-dateutil>=2.8.2 in /Users/aarya_kulkarni/.virtualenvs/r-reticulate/lib/python3.9/site-packages (from pandas>=1.3.5->nba-on-court) (2.8.2)\n",
      "Requirement already satisfied: pytz>=2020.1 in /Users/aarya_kulkarni/.virtualenvs/r-reticulate/lib/python3.9/site-packages (from pandas>=1.3.5->nba-on-court) (2023.3.post1)\n",
      "Requirement already satisfied: tzdata>=2022.1 in /Users/aarya_kulkarni/.virtualenvs/r-reticulate/lib/python3.9/site-packages (from pandas>=1.3.5->nba-on-court) (2023.3)\n",
      "Requirement already satisfied: charset-normalizer<4,>=2 in /Users/aarya_kulkarni/.virtualenvs/r-reticulate/lib/python3.9/site-packages (from requests->nba-on-court) (3.3.2)\n",
      "Requirement already satisfied: idna<4,>=2.5 in /Users/aarya_kulkarni/.virtualenvs/r-reticulate/lib/python3.9/site-packages (from requests->nba-on-court) (3.4)\n",
      "Requirement already satisfied: urllib3<3,>=1.21.1 in /Users/aarya_kulkarni/.virtualenvs/r-reticulate/lib/python3.9/site-packages (from requests->nba-on-court) (2.1.0)\n",
      "Requirement already satisfied: six>=1.5 in /Users/aarya_kulkarni/.virtualenvs/r-reticulate/lib/python3.9/site-packages (from python-dateutil>=2.8.2->pandas>=1.3.5->nba-on-court) (1.16.0)\n",
      "\u001b[33mWARNING: Ignoring invalid distribution - (/Users/aarya_kulkarni/.virtualenvs/r-reticulate/lib/python3.9/site-packages)\u001b[0m\u001b[33m\n",
      "\u001b[0m\u001b[33mWARNING: Ignoring invalid distribution -eras (/Users/aarya_kulkarni/.virtualenvs/r-reticulate/lib/python3.9/site-packages)\u001b[0m\u001b[33m\n",
      "\u001b[0m\n",
      "\u001b[1m[\u001b[0m\u001b[34;49mnotice\u001b[0m\u001b[1;39;49m]\u001b[0m\u001b[39;49m A new release of pip is available: \u001b[0m\u001b[31;49m23.3.1\u001b[0m\u001b[39;49m -> \u001b[0m\u001b[32;49m24.0\u001b[0m\n",
      "\u001b[1m[\u001b[0m\u001b[34;49mnotice\u001b[0m\u001b[1;39;49m]\u001b[0m\u001b[39;49m To update, run: \u001b[0m\u001b[32;49mpip install --upgrade pip\u001b[0m\n"
     ]
    }
   ],
   "source": [
    "!pip install nba-on-court"
   ]
  },
  {
   "cell_type": "code",
   "execution_count": 11,
   "metadata": {},
   "outputs": [],
   "source": [
    "from nba_api.stats.endpoints import playbyplayv2\n",
    "import nba_on_court.nba_on_court as noc"
   ]
  },
  {
   "cell_type": "code",
   "execution_count": 25,
   "metadata": {},
   "outputs": [
    {
     "data": {
      "text/plain": [
       "Index(['GAME_ID', 'EVENTNUM', 'EVENTMSGTYPE', 'EVENTMSGACTIONTYPE', 'PERIOD',\n",
       "       'WCTIMESTRING', 'PCTIMESTRING', 'HOMEDESCRIPTION', 'NEUTRALDESCRIPTION',\n",
       "       'VISITORDESCRIPTION', 'SCORE', 'SCOREMARGIN', 'PERSON1TYPE',\n",
       "       'PLAYER1_ID', 'PLAYER1_NAME', 'PLAYER1_TEAM_ID', 'PLAYER1_TEAM_CITY',\n",
       "       'PLAYER1_TEAM_NICKNAME', 'PLAYER1_TEAM_ABBREVIATION', 'PERSON2TYPE',\n",
       "       'PLAYER2_ID', 'PLAYER2_NAME', 'PLAYER2_TEAM_ID', 'PLAYER2_TEAM_CITY',\n",
       "       'PLAYER2_TEAM_NICKNAME', 'PLAYER2_TEAM_ABBREVIATION', 'PERSON3TYPE',\n",
       "       'PLAYER3_ID', 'PLAYER3_NAME', 'PLAYER3_TEAM_ID', 'PLAYER3_TEAM_CITY',\n",
       "       'PLAYER3_TEAM_NICKNAME', 'PLAYER3_TEAM_ABBREVIATION',\n",
       "       'VIDEO_AVAILABLE_FLAG', 'AWAY_PLAYER1', 'AWAY_PLAYER2', 'AWAY_PLAYER3',\n",
       "       'AWAY_PLAYER4', 'AWAY_PLAYER5', 'HOME_PLAYER1', 'HOME_PLAYER2',\n",
       "       'HOME_PLAYER3', 'HOME_PLAYER4', 'HOME_PLAYER5'],\n",
       "      dtype='object')"
      ]
     },
     "execution_count": 25,
     "metadata": {},
     "output_type": "execute_result"
    }
   ],
   "source": [
    "pbp = playbyplayv2.PlayByPlayV2(game_id=\"0022100001\").play_by_play.get_data_frame()\n",
    "pbp_with_players = noc.players_on_court(pbp)\n",
    "len(pbp_with_players.columns) - len(pbp.columns)\n",
    "pbp_with_players.columns"
   ]
  },
  {
   "cell_type": "code",
   "execution_count": 28,
   "metadata": {},
   "outputs": [
    {
     "data": {
      "text/plain": [
       "0     201142\n",
       "1    1629651\n",
       "2     201933\n",
       "3     201935\n",
       "4     203925\n",
       "5     201572\n",
       "6     201950\n",
       "7    1628960\n",
       "8     203114\n",
       "9     203507\n",
       "Name: 0, dtype: object"
      ]
     },
     "execution_count": 28,
     "metadata": {},
     "output_type": "execute_result"
    }
   ],
   "source": [
    "pbp_with_players.iloc[0, 34:].reset_index(drop=True)\n"
   ]
  },
  {
   "cell_type": "code",
   "execution_count": 13,
   "metadata": {},
   "outputs": [
    {
     "name": "stdout",
     "output_type": "stream",
     "text": [
      "[201142, 1629651, 201933, 201935, 203925, 201572, 201950, 1628960, 203114, 203507]\n"
     ]
    }
   ],
   "source": [
    "players_id = list(pbp_with_players.iloc[0, 34:].reset_index(drop=True))\n",
    "print(players_id)"
   ]
  },
  {
   "cell_type": "code",
   "execution_count": 14,
   "metadata": {},
   "outputs": [
    {
     "name": "stdout",
     "output_type": "stream",
     "text": [
      "['Kevin Durant', 'Nic Claxton', 'Blake Griffin', 'James Harden', 'Joe Harris', 'Brook Lopez', 'Jrue Holiday', 'Grayson Allen', 'Khris Middleton', 'Giannis Antetokounmpo']\n"
     ]
    }
   ],
   "source": [
    "players_name = noc.players_name(players_id)\n",
    "print(players_name)"
   ]
  },
  {
   "cell_type": "code",
   "execution_count": 16,
   "metadata": {},
   "outputs": [
    {
     "ename": "OSError",
     "evalue": "[Errno 30] Read-only file system: '/nbastats_2022.tar.xz'",
     "output_type": "error",
     "traceback": [
      "\u001b[0;31m---------------------------------------------------------------------------\u001b[0m",
      "\u001b[0;31mOSError\u001b[0m                                   Traceback (most recent call last)",
      "Cell \u001b[0;32mIn[16], line 1\u001b[0m\n\u001b[0;32m----> 1\u001b[0m \u001b[43mnoc\u001b[49m\u001b[38;5;241;43m.\u001b[39;49m\u001b[43mload_nba_data\u001b[49m\u001b[43m(\u001b[49m\u001b[43mseasons\u001b[49m\u001b[38;5;241;43m=\u001b[39;49m\u001b[38;5;241;43m2022\u001b[39;49m\u001b[43m,\u001b[49m\u001b[43m \u001b[49m\u001b[43mdata\u001b[49m\u001b[38;5;241;43m=\u001b[39;49m\u001b[38;5;124;43m'\u001b[39;49m\u001b[38;5;124;43mnbastats\u001b[39;49m\u001b[38;5;124;43m'\u001b[39;49m\u001b[43m)\u001b[49m\n",
      "File \u001b[0;32m~/.virtualenvs/r-reticulate/lib/python3.9/site-packages/nba_on_court/nba_on_court.py:289\u001b[0m, in \u001b[0;36mload_nba_data\u001b[0;34m(path, seasons, data, seasontype, untar)\u001b[0m\n\u001b[1;32m    287\u001b[0m \u001b[38;5;28;01mfor\u001b[39;00m i \u001b[38;5;129;01min\u001b[39;00m \u001b[38;5;28mrange\u001b[39m(\u001b[38;5;28mlen\u001b[39m(need_name)):\n\u001b[1;32m    288\u001b[0m     t \u001b[38;5;241m=\u001b[39m urllib\u001b[38;5;241m.\u001b[39mrequest\u001b[38;5;241m.\u001b[39murlopen(need_element[i])\n\u001b[0;32m--> 289\u001b[0m     \u001b[38;5;28;01mwith\u001b[39;00m \u001b[43mpath\u001b[49m\u001b[38;5;241;43m.\u001b[39;49m\u001b[43mjoinpath\u001b[49m\u001b[43m(\u001b[49m\u001b[38;5;124;43m\"\u001b[39;49m\u001b[38;5;124;43m\"\u001b[39;49m\u001b[38;5;241;43m.\u001b[39;49m\u001b[43mjoin\u001b[49m\u001b[43m(\u001b[49m\u001b[43m[\u001b[49m\u001b[43mneed_name\u001b[49m\u001b[43m[\u001b[49m\u001b[43mi\u001b[49m\u001b[43m]\u001b[49m\u001b[43m,\u001b[49m\u001b[43m \u001b[49m\u001b[38;5;124;43m\"\u001b[39;49m\u001b[38;5;124;43m.tar.xz\u001b[39;49m\u001b[38;5;124;43m\"\u001b[39;49m\u001b[43m]\u001b[49m\u001b[43m)\u001b[49m\u001b[43m)\u001b[49m\u001b[38;5;241;43m.\u001b[39;49m\u001b[43mopen\u001b[49m\u001b[43m(\u001b[49m\u001b[43mmode\u001b[49m\u001b[38;5;241;43m=\u001b[39;49m\u001b[38;5;124;43m'\u001b[39;49m\u001b[38;5;124;43mwb\u001b[39;49m\u001b[38;5;124;43m'\u001b[39;49m\u001b[43m)\u001b[49m \u001b[38;5;28;01mas\u001b[39;00m f:\n\u001b[1;32m    290\u001b[0m         f\u001b[38;5;241m.\u001b[39mwrite(t\u001b[38;5;241m.\u001b[39mread())\n\u001b[1;32m    291\u001b[0m     \u001b[38;5;28;01mif\u001b[39;00m untar:\n",
      "File \u001b[0;32m~/opt/anaconda3/lib/python3.9/pathlib.py:1252\u001b[0m, in \u001b[0;36mPath.open\u001b[0;34m(self, mode, buffering, encoding, errors, newline)\u001b[0m\n\u001b[1;32m   1246\u001b[0m \u001b[38;5;28;01mdef\u001b[39;00m \u001b[38;5;21mopen\u001b[39m(\u001b[38;5;28mself\u001b[39m, mode\u001b[38;5;241m=\u001b[39m\u001b[38;5;124m'\u001b[39m\u001b[38;5;124mr\u001b[39m\u001b[38;5;124m'\u001b[39m, buffering\u001b[38;5;241m=\u001b[39m\u001b[38;5;241m-\u001b[39m\u001b[38;5;241m1\u001b[39m, encoding\u001b[38;5;241m=\u001b[39m\u001b[38;5;28;01mNone\u001b[39;00m,\n\u001b[1;32m   1247\u001b[0m          errors\u001b[38;5;241m=\u001b[39m\u001b[38;5;28;01mNone\u001b[39;00m, newline\u001b[38;5;241m=\u001b[39m\u001b[38;5;28;01mNone\u001b[39;00m):\n\u001b[1;32m   1248\u001b[0m \u001b[38;5;250m    \u001b[39m\u001b[38;5;124;03m\"\"\"\u001b[39;00m\n\u001b[1;32m   1249\u001b[0m \u001b[38;5;124;03m    Open the file pointed by this path and return a file object, as\u001b[39;00m\n\u001b[1;32m   1250\u001b[0m \u001b[38;5;124;03m    the built-in open() function does.\u001b[39;00m\n\u001b[1;32m   1251\u001b[0m \u001b[38;5;124;03m    \"\"\"\u001b[39;00m\n\u001b[0;32m-> 1252\u001b[0m     \u001b[38;5;28;01mreturn\u001b[39;00m \u001b[43mio\u001b[49m\u001b[38;5;241;43m.\u001b[39;49m\u001b[43mopen\u001b[49m\u001b[43m(\u001b[49m\u001b[38;5;28;43mself\u001b[39;49m\u001b[43m,\u001b[49m\u001b[43m \u001b[49m\u001b[43mmode\u001b[49m\u001b[43m,\u001b[49m\u001b[43m \u001b[49m\u001b[43mbuffering\u001b[49m\u001b[43m,\u001b[49m\u001b[43m \u001b[49m\u001b[43mencoding\u001b[49m\u001b[43m,\u001b[49m\u001b[43m \u001b[49m\u001b[43merrors\u001b[49m\u001b[43m,\u001b[49m\u001b[43m \u001b[49m\u001b[43mnewline\u001b[49m\u001b[43m,\u001b[49m\n\u001b[1;32m   1253\u001b[0m \u001b[43m                   \u001b[49m\u001b[43mopener\u001b[49m\u001b[38;5;241;43m=\u001b[39;49m\u001b[38;5;28;43mself\u001b[39;49m\u001b[38;5;241;43m.\u001b[39;49m\u001b[43m_opener\u001b[49m\u001b[43m)\u001b[49m\n",
      "File \u001b[0;32m~/opt/anaconda3/lib/python3.9/pathlib.py:1120\u001b[0m, in \u001b[0;36mPath._opener\u001b[0;34m(self, name, flags, mode)\u001b[0m\n\u001b[1;32m   1118\u001b[0m \u001b[38;5;28;01mdef\u001b[39;00m \u001b[38;5;21m_opener\u001b[39m(\u001b[38;5;28mself\u001b[39m, name, flags, mode\u001b[38;5;241m=\u001b[39m\u001b[38;5;241m0o666\u001b[39m):\n\u001b[1;32m   1119\u001b[0m     \u001b[38;5;66;03m# A stub for the opener argument to built-in open()\u001b[39;00m\n\u001b[0;32m-> 1120\u001b[0m     \u001b[38;5;28;01mreturn\u001b[39;00m \u001b[38;5;28;43mself\u001b[39;49m\u001b[38;5;241;43m.\u001b[39;49m\u001b[43m_accessor\u001b[49m\u001b[38;5;241;43m.\u001b[39;49m\u001b[43mopen\u001b[49m\u001b[43m(\u001b[49m\u001b[38;5;28;43mself\u001b[39;49m\u001b[43m,\u001b[49m\u001b[43m \u001b[49m\u001b[43mflags\u001b[49m\u001b[43m,\u001b[49m\u001b[43m \u001b[49m\u001b[43mmode\u001b[49m\u001b[43m)\u001b[49m\n",
      "\u001b[0;31mOSError\u001b[0m: [Errno 30] Read-only file system: '/nbastats_2022.tar.xz'"
     ]
    }
   ],
   "source": []
  }
 ],
 "metadata": {
  "kernelspec": {
   "display_name": "r-reticulate",
   "language": "python",
   "name": "python3"
  },
  "language_info": {
   "codemirror_mode": {
    "name": "ipython",
    "version": 3
   },
   "file_extension": ".py",
   "mimetype": "text/x-python",
   "name": "python",
   "nbconvert_exporter": "python",
   "pygments_lexer": "ipython3",
   "version": "3.9.12"
  }
 },
 "nbformat": 4,
 "nbformat_minor": 2
}
